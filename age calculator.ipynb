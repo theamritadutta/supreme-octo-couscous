{
 "cells": [
  {
   "cell_type": "code",
   "execution_count": 1,
   "id": "68f369fa",
   "metadata": {},
   "outputs": [],
   "source": [
    "import datetime"
   ]
  },
  {
   "cell_type": "code",
   "execution_count": 2,
   "id": "a4dc7136",
   "metadata": {},
   "outputs": [],
   "source": [
    "import tkinter as tk"
   ]
  },
  {
   "cell_type": "code",
   "execution_count": 3,
   "id": "1c5da8fb",
   "metadata": {},
   "outputs": [],
   "source": [
    "from PIL import Image,ImageTk"
   ]
  },
  {
   "cell_type": "code",
   "execution_count": 4,
   "id": "c4d21eb3",
   "metadata": {},
   "outputs": [],
   "source": [
    "window=tk.Tk()\n",
    "window.geometry(\"620x780\")\n",
    "window.title(\"Age Calculator App\")\n",
    "name=tk.Label(text='Name')\n",
    "name.grid(column=0, row=1)\n",
    "year=tk.Label(text='Year')\n",
    "year.grid(column=0, row=2)\n",
    "month=tk.Label(text='Month')\n",
    "month.grid(column=0, row=3)\n",
    "date=tk.Label(text='Day')\n",
    "date.grid(column=0, row=4)\n",
    "nameEntry=tk.Entry()\n",
    "nameEntry.grid(column=1,row=1)\n",
    "yearEntry=tk.Entry()\n",
    "yearEntry.grid(column=1,row=2)\n",
    "monthEntry=tk.Entry()\n",
    "monthEntry.grid(column=1,row=3)\n",
    "dateEntry=tk.Entry()\n",
    "dateEntry.grid(column=1,row=4)\n",
    "\n",
    "def getInput():\n",
    "    name=nameEntry.get()\n",
    "    monkey=Person(name,datetime.date(int(yearEntry.get()),\n",
    "                                    int(monthEntry.get()),\n",
    "                                    int(dateEntry.get())))\n",
    "    textArea=tk.Text(master=window,height=10,width=25)\n",
    "    textArea.grid(column=1,row=6)\n",
    "    answer=\"Hey {monkey}!. You are {age} years old!\".format(monkey=name,age=monkey.age())\n",
    "    textArea.insert(tk.END,answer)\n",
    "button=tk.Button(window, text=\"Calculate Age\", command=getInput, bg=\"pink\")\n",
    "button.grid(column=1,row=5)\n",
    "\n",
    "class Person:\n",
    "    def __init__(self,name,birthdate):\n",
    "        self.name=name\n",
    "        self.birthdate=birthdate\n",
    "    def age(self):\n",
    "        today=datetime.date.today()\n",
    "        age=today.year-self.birthdate.year\n",
    "        return age\n",
    "\n",
    "image=Image.open(\"old.png\")\n",
    "image.thumbnail((300,300),Image.LANCZOS)\n",
    "photo=ImageTk.PhotoImage(image)\n",
    "label_image=tk.Label(image=photo)\n",
    "label_image.grid(column=1,row=0)\n",
    "window.mainloop()\n"
   ]
  },
  {
   "cell_type": "code",
   "execution_count": null,
   "id": "7f15dab5",
   "metadata": {},
   "outputs": [],
   "source": []
  },
  {
   "cell_type": "code",
   "execution_count": null,
   "id": "2aca76f5",
   "metadata": {},
   "outputs": [],
   "source": []
  }
 ],
 "metadata": {
  "kernelspec": {
   "display_name": "Python 3 (ipykernel)",
   "language": "python",
   "name": "python3"
  },
  "language_info": {
   "codemirror_mode": {
    "name": "ipython",
    "version": 3
   },
   "file_extension": ".py",
   "mimetype": "text/x-python",
   "name": "python",
   "nbconvert_exporter": "python",
   "pygments_lexer": "ipython3",
   "version": "3.11.2"
  }
 },
 "nbformat": 4,
 "nbformat_minor": 5
}
